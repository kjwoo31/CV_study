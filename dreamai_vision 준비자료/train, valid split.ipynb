{
 "cells": [
  {
   "cell_type": "code",
   "execution_count": 1,
   "metadata": {},
   "outputs": [],
   "source": [
    "import os # 경로 찾기\n",
    "from glob import glob # 한 번에 여러 파일 list 가져오기\n",
    "import xml.etree.ElementTree as ET\n",
    "import shutil\n",
    "from tqdm import tqdm_notebook\n",
    "import random\n",
    "\n",
    "from PIL import Image\n",
    "\n",
    "import numpy as np\n",
    "import matplotlib.pyplot as plt\n",
    "%matplotlib inline"
   ]
  },
  {
   "cell_type": "code",
   "execution_count": 3,
   "metadata": {},
   "outputs": [
    {
     "name": "stdout",
     "output_type": "stream",
     "text": [
      "['images\\\\paper', 'images\\\\rock', 'images\\\\scissors']\n"
     ]
    }
   ],
   "source": [
    "classes_url = glob('images/*')\n",
    "print(classes_url)"
   ]
  },
  {
   "cell_type": "code",
   "execution_count": 4,
   "metadata": {},
   "outputs": [
    {
     "name": "stderr",
     "output_type": "stream",
     "text": [
      "c:\\users\\user-pc\\appdata\\local\\programs\\python\\python36\\lib\\site-packages\\ipykernel_launcher.py:6: TqdmDeprecationWarning: This function will be removed in tqdm==5.0.0\n",
      "Please use `tqdm.notebook.tqdm` instead of `tqdm.tqdm_notebook`\n",
      "  \n"
     ]
    },
    {
     "data": {
      "application/vnd.jupyter.widget-view+json": {
       "model_id": "d92ad2a69d844e63b5efa03f1a5e0d26",
       "version_major": 2,
       "version_minor": 0
      },
      "text/plain": [
       "HBox(children=(HTML(value=''), FloatProgress(value=0.0, max=3.0), HTML(value='')))"
      ]
     },
     "metadata": {},
     "output_type": "display_data"
    },
    {
     "name": "stdout",
     "output_type": "stream",
     "text": [
      "\n"
     ]
    }
   ],
   "source": [
    "ann2=[]\n",
    "i=0\n",
    "\n",
    "\n",
    "# ann2에 파일 이름, label 저장\n",
    "for class_url in tqdm_notebook(classes_url):\n",
    "    class_name = class_url.split('\\\\')[1]\n",
    "    os.makedirs('train/' + class_name, exist_ok=True)\n",
    "    os.makedirs('valid/' + class_name, exist_ok=True)\n",
    "    \n",
    "    src_list = glob(class_url+'/'+'*')\n",
    "    src_size = len(src_list)\n",
    "    src_idxlist = random.sample(range(0, src_size), 60)\n",
    "    \n",
    "    train_dst = 'train/' + class_name\n",
    "    val_dst = 'valid/' + class_name\n",
    "    \n",
    "    for src_idx in src_idxlist:\n",
    "        i=i+1\n",
    "        if i < 21:\n",
    "            shutil.copy(src_list[src_idx],val_dst)\n",
    "        else:\n",
    "            shutil.copy(src_list[src_idx],train_dst)\n",
    "    i=0"
   ]
  },
  {
   "cell_type": "code",
   "execution_count": null,
   "metadata": {},
   "outputs": [],
   "source": []
  }
 ],
 "metadata": {
  "kernelspec": {
   "display_name": "Python 3",
   "language": "python",
   "name": "python3"
  },
  "language_info": {
   "codemirror_mode": {
    "name": "ipython",
    "version": 3
   },
   "file_extension": ".py",
   "mimetype": "text/x-python",
   "name": "python",
   "nbconvert_exporter": "python",
   "pygments_lexer": "ipython3",
   "version": "3.6.8"
  }
 },
 "nbformat": 4,
 "nbformat_minor": 4
}
